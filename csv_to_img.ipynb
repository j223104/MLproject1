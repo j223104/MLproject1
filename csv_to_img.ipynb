{
 "cells": [
  {
   "cell_type": "markdown",
   "metadata": {
    "collapsed": true,
    "pycharm": {
     "name": "#%% md\n"
    }
   },
   "source": [
    "레이블 데이터 만들기"
   ],
   "outputs": []
  },
  {
   "cell_type": "code",
   "execution_count": 4,
   "outputs": [],
   "source": [
    "#패키지 불러오기\n",
    "\n",
    "# import matplotlib\n",
    "# matplotlib.use('Agg')\n",
    "# import glob\n",
    "# import argparse\n",
    "\n",
    "# from shutil import copyfile, move\n",
    "# from pathlib import Path\n",
    "import pandas as pd\n",
    "import matplotlib.dates as mdates"
   ],
   "metadata": {
    "collapsed": false,
    "pycharm": {
     "name": "#%%\n"
    }
   }
  },
  {
   "cell_type": "code",
   "execution_count": 15,
   "outputs": [
    {
     "name": "stdout",
     "output_type": "stream",
     "text": [
      "Creating label . . .\n",
      "Create label finished.\n"
     ]
    }
   ],
   "source": [
    "def createLabel(fname, seq_len):\n",
    "    print(\"Creating label . . .\")\n",
    "\n",
    "    filename = fname.split('_')\n",
    "    df = pd.read_csv(fname, parse_dates=True, index_col=0)\n",
    "    df.fillna(0)##빈칸없음 어차피\n",
    "    df.reset_index(inplace=True)##인덱스 의 문자열(날짜를)을 숫자날짜(?)로 바꿔줌\n",
    "    df['Open_time'] = df['Open_time'].map(mdates.date2num)\n",
    "\n",
    "    for i in range(0, len(df)):\n",
    "        c = df.iloc[i+19:i+19+ int(seq_len), :]## 19는 우리가 필요한 첫번째 데이터가 첫 그림의 마지막 봉의 클로즈 데이터이므로\n",
    "\n",
    "        starting = 0\n",
    "        endvalue = 0\n",
    "        label = \"\"\n",
    "\n",
    "        if len(c.index) == int(seq_len): # 총 데이터가 봉개수(여기선 3 과 같다면)\n",
    "            starting = c[\"Open\"].iloc[0]#첫번째 봉의 오픈\n",
    "            endvalue = c[\"Close\"].iloc[-1] # 3번째 봉의 클로즈\n",
    "\n",
    "            tmp_rtn = endvalue / starting -1\n",
    "            if tmp_rtn >= 0.007 :\n",
    "                label = 1 # 매수\n",
    "            elif 0.007 > tmp_rtn >= 0 : #유지\n",
    "                label = 2\n",
    "            else: #매도\n",
    "                label = 3\n",
    "\n",
    "            with open(\"{}_label_{}.txt\".format(filename[0][:3], seq_len), 'a') as the_file:\n",
    "                the_file.write(\"{}-{},{}\".format(filename[0][:3], i, label))\n",
    "                the_file.write(\"\\n\")\n",
    "\n",
    "    print(\"Create label finished.\")\n",
    "createLabel(\"btc_20220113.csv\",3)#3은 15분 뒤 데이터라는 뜻"
   ],
   "metadata": {
    "collapsed": false,
    "pycharm": {
     "name": "#%%\n"
    }
   }
  },
  {
   "cell_type": "markdown",
   "source": [
    "csv 파일을 이미지로 만들기"
   ],
   "metadata": {
    "collapsed": false,
    "pycharm": {
     "name": "#%% md\n"
    }
   }
  },
  {
   "cell_type": "code",
   "execution_count": 11,
   "outputs": [
    {
     "name": "stdout",
     "output_type": "stream",
     "text": [
      "Converting ohlc to candlestick\n",
      "btc\n",
      "Converting olhc to candlestik finished.\n"
     ]
    }
   ],
   "source": [
    "from mplfinance import original_flavor as mpl\n",
    "import matplotlib.pyplot as plt\n",
    "import os\n",
    "\n",
    "def ohlc2cs(fname, bongsu):\n",
    "    print(\"Converting ohlc to candlestick\")\n",
    "    symbol = fname.split('_')[0] # 여기선 btc\n",
    "\n",
    "    print(symbol)\n",
    "    path = \"{}\".format(os.getcwd())\n",
    "\n",
    "    if not os.path.exists(\"{}/dataset/{}_{}\".format(path,symbol, bongsu)):\n",
    "        os.makedirs(\"{}/dataset/{}_{}\".format(path,symbol, bongsu))\n",
    "    df = pd.read_csv(fname, parse_dates=True, index_col=0)\n",
    "    df.fillna(0)\n",
    "    plt.style.use('dark_background')\n",
    "    df.reset_index(inplace=True)\n",
    "    df['Open_time'] = df['Open_time'].map(mdates.date2num)\n",
    "\n",
    "\n",
    "    for i in range(0, len(df)-int(bongsu)):\n",
    "\n",
    "        c = df.iloc[i:i + int(bongsu) - 1, :]\n",
    "\n",
    "\n",
    "        fig = plt.figure(figsize=(50 / 96,\n",
    "                                  50 / 96), dpi=96)\n",
    "        ax1 = fig.add_subplot(1, 1, 1)\n",
    "        mpl.candlestick2_ochl(ax1, c['Open'], c['Close'], c['High'],c['Low'],\n",
    "                  width=1,colorup='#77d879', colordown='#db3f3f')\n",
    "        ax1.grid(False)\n",
    "        ax1.set_xticklabels([])\n",
    "        ax1.set_yticklabels([])\n",
    "        ax1.xaxis.set_visible(False)\n",
    "        ax1.yaxis.set_visible(False)\n",
    "        ax1.axis('off')\n",
    "\n",
    "        pngfile = \"{}/dataset/{}_{}/{}-{}.png\".format(path,symbol, bongsu, fname[:3], i)\n",
    "        fig.savefig(pngfile, pad_inches=0, transparent=False)\n",
    "        plt.close(fig)\n",
    "\n",
    "        # Alpha 채널 없애기 위한.\n",
    "        from PIL import Image\n",
    "        img = Image.open(pngfile)\n",
    "        img = img.convert('RGB')\n",
    "        img.save(pngfile)\n",
    "\n",
    "\n",
    "    print(\"Converting olhc to candlestick finished.\")\n",
    "#ohlc2cs(\"btc_20220113.csv\",20)"
   ],
   "metadata": {
    "collapsed": false,
    "pycharm": {
     "name": "#%%\n"
    }
   }
  },
  {
   "cell_type": "markdown",
   "source": [
    "이미지 이름에 레이블을 넣기"
   ],
   "metadata": {
    "collapsed": false,
    "pycharm": {
     "name": "#%% md\n"
    }
   }
  },
  {
   "cell_type": "code",
   "execution_count": 30,
   "outputs": [
    {
     "name": "stdout",
     "output_type": "stream",
     "text": [
      "Done\n"
     ]
    }
   ],
   "source": [
    "#1,2,3 폴더로 일단 구분하자\n",
    "from shutil import copyfile, move\n",
    "\n",
    "def labeling_img(input, label_file):\n",
    "    path = \"{}/{}\".format(os.getcwd(), input)\n",
    "    label_dict = {}\n",
    "    with open(label_file) as label_txt:\n",
    "        for line in label_txt:\n",
    "            (key, val) = line.split(',')\n",
    "            label_dict[key] = val.rstrip() #파일명\n",
    "\n",
    "    for file in os.listdir(path):\n",
    "        f, e = os.path.splitext(file) ## f  가 파일명이 맞는데 이게 1이면 1폴더로 가고\n",
    "        if label_dict[f] == \"1\":\n",
    "                os.rename(\"{}/{}\".format(path, file),\"{}/{}\".format(path, file+ \"_1.png\"))\n",
    "        elif label_dict[f] == \"2\":\n",
    "                os.rename(\"{}/{}\".format(path, file),\"{}/{}\".format(path, file+ \"_2.png\"))\n",
    "        elif label_dict[f] == \"3\":\n",
    "            os.rename(\"{}/{}\".format(path, file),\"{}/{}\".format(path, file+ \"_3.png\"))\n",
    "\n",
    "    print('Done')\n",
    "\n",
    "#labeling_img(\"/dataset/btc_20\", \"btc_label_3.txt\")\n",
    "\n",
    "# btc-이미지번호 _ 라벨 .png 형태로 저장됨\n",
    "# 이후 구글 코랩에서 진행함."
   ],
   "metadata": {
    "collapsed": false,
    "pycharm": {
     "name": "#%%\n"
    }
   }
  }
 ],
 "metadata": {
  "kernelspec": {
   "display_name": "Python 3",
   "language": "python",
   "name": "python3"
  },
  "language_info": {
   "codemirror_mode": {
    "name": "ipython",
    "version": 2
   },
   "file_extension": ".py",
   "mimetype": "text/x-python",
   "name": "python",
   "nbconvert_exporter": "python",
   "pygments_lexer": "ipython2",
   "version": "2.7.6"
  }
 },
 "nbformat": 4,
 "nbformat_minor": 0
}