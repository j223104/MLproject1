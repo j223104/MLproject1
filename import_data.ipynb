{
 "cells": [
  {
   "cell_type": "code",
   "execution_count": 1,
   "metadata": {
    "collapsed": true
   },
   "outputs": [],
   "source": [
    "import requests\n",
    "from datetime import datetime\n",
    "import time\n",
    "import pandas as pd\n",
    "from tqdm import tqdm"
   ]
  },
  {
   "cell_type": "code",
   "execution_count": 2,
   "outputs": [],
   "source": [
    "#전체 종목 불러오기\n",
    "result = requests.get('https://api.binance.com/api/v3/ticker/price')\n",
    "js = result.json()\n",
    "symbols = [x['symbol'] for x in js]\n",
    "symbols_usdt = [x for x in symbols if 'USDT' in x]  # 끝이 USDT로 끝나는 심볼들, ['BTCUSDT', 'ETHUSDT', ...]"
   ],
   "metadata": {
    "collapsed": false,
    "pycharm": {
     "name": "#%%\n"
    }
   }
  },
  {
   "cell_type": "code",
   "execution_count": 3,
   "outputs": [
    {
     "name": "stdout",
     "output_type": "stream",
     "text": [
      "2021-11-01 00:00:00\n",
      "2021-11-04 11:16:00\n",
      "2021-11-07 22:36:00\n",
      "2021-11-11 09:56:00\n",
      "2021-11-14 21:16:00\n",
      "2021-11-18 08:36:00\n",
      "2021-11-21 19:56:00\n",
      "2021-11-25 07:16:00\n",
      "2021-11-28 18:36:00\n",
      "2021-12-02 05:56:00\n",
      "2021-12-05 17:16:00\n",
      "2021-12-09 04:36:00\n",
      "2021-12-12 15:56:00\n",
      "2021-12-16 03:16:00\n",
      "2021-12-19 14:36:00\n",
      "2021-12-23 01:56:00\n",
      "2021-12-26 13:16:00\n",
      "2021-12-30 00:36:00\n",
      "2022-01-02 11:56:00\n",
      "2022-01-05 23:16:00\n",
      "2022-01-09 10:36:00\n",
      "2022-01-12 21:56:00\n",
      "2022-01-12 23:56:00\n"
     ]
    }
   ],
   "source": [
    "#CSV 파일 만들기 , 여기서는 종목 1개로 진행한다.\n",
    "COLUMNS = ['Open_time', 'Open', 'High', 'Low', 'Close', 'Volume', 'Close_time', 'quote_av', 'trades',\n",
    "                   'tb_base_av', 'tb_quote_av', 'ignore']\n",
    "URL = 'https://api.binance.com/api/v3/klines'#캔들스틱정보를 가져오는 api 주소\n",
    "def get_data(start_date, end_date, symbol):\n",
    "    data = []\n",
    "##날짜 변환\n",
    "    start = int(time.mktime(datetime.strptime(start_date + ' 00:00', '%Y-%m-%d %H:%M').timetuple())) * 1000\n",
    "    end = int(time.mktime(datetime.strptime(end_date +' 23:59', '%Y-%m-%d %H:%M').timetuple())) * 1000\n",
    "    params = {\n",
    "        'symbol': symbol,\n",
    "        'interval': '5m',\n",
    "        'limit': 1000,\n",
    "        'startTime': start,\n",
    "        'endTime': end\n",
    "    } \n",
    "\n",
    "    while start < end:\n",
    "        print(datetime.fromtimestamp(start // 1000))\n",
    "        params['startTime'] = start\n",
    "        result = requests.get(URL, params = params)\n",
    "        js = result.json()\n",
    "        if not js:\n",
    "            break\n",
    "        data.extend(js)  # result에 저장\n",
    "        start = js[-1][0] + 60000  # 다음 step으로\n",
    "    # 전처리\n",
    "    if not data:  # 해당 기간에 데이터가 없는 경우\n",
    "        print('해당 기간에 일치하는 데이터가 없습니다.')\n",
    "        return -1\n",
    "    df = pd.DataFrame(data)\n",
    "    df.columns = COLUMNS\n",
    "    df['Open_time'] = df.apply(lambda x:datetime.fromtimestamp(x['Open_time'] // 1000), axis=1)\n",
    "    df = df.drop(columns = ['Close_time', 'ignore'])\n",
    "    df['Symbol'] = symbol\n",
    "    df.loc[:, 'Open':'tb_quote_av'] = df.loc[:, 'Open':'tb_quote_av'].astype(float)  # string to float\n",
    "    df['trades'] = df['trades'].astype(int)\n",
    "    return df\n",
    "\n",
    "start_date = '2021-11-01'\n",
    "end_date = '2022-01-12'\n",
    "symbol = symbols_usdt[0]\n",
    "df = get_data(start_date, end_date, symbol)\n",
    "df.to_csv(f'C:경로/{symbol[:3].lower()}_20220113.csv', index=False)"
   ],
   "metadata": {
    "collapsed": false,
    "pycharm": {
     "name": "#%%\n"
    }
   }
  }
 ],
 "metadata": {
  "kernelspec": {
   "display_name": "Python 3",
   "language": "python",
   "name": "python3"
  },
  "language_info": {
   "codemirror_mode": {
    "name": "ipython",
    "version": 2
   },
   "file_extension": ".py",
   "mimetype": "text/x-python",
   "name": "python",
   "nbconvert_exporter": "python",
   "pygments_lexer": "ipython2",
   "version": "2.7.6"
  }
 },
 "nbformat": 4,
 "nbformat_minor": 0
}